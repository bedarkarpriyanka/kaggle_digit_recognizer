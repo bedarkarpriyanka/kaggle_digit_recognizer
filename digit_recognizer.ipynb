{
 "cells": [
  {
   "cell_type": "code",
   "execution_count": 1,
   "metadata": {},
   "outputs": [],
   "source": [
    "import pandas as pd\n",
    "import numpy as np"
   ]
  },
  {
   "cell_type": "code",
   "execution_count": 8,
   "metadata": {},
   "outputs": [],
   "source": [
    "train_orig = np.genfromtxt('train.csv', delimiter=',',skip_header=1)\n",
    "test_orig = np.genfromtxt('test.csv', delimiter=',',skip_header=1)"
   ]
  },
  {
   "cell_type": "code",
   "execution_count": 11,
   "metadata": {},
   "outputs": [
    {
     "name": "stdout",
     "output_type": "stream",
     "text": [
      "Train Y :  (1, 42000)\n",
      "Train X :  (784, 42000)\n",
      "Test X :  (784, 28000)\n"
     ]
    }
   ],
   "source": [
    "train_y_orig = train_orig.T[0].reshape((1,train_orig.shape[0]))\n",
    "print \"Train Y : \" ,train_y_orig.shape\n",
    "\n",
    "train_x_orig = train_orig.T[1:]\n",
    "print \"Train X : \" ,train_x_orig.shape\n",
    "\n",
    "test_x_orig = test_orig.T\n",
    "print \"Test X : \", test_x_orig.shape\n"
   ]
  },
  {
   "cell_type": "code",
   "execution_count": 12,
   "metadata": {},
   "outputs": [],
   "source": [
    "def layer_size(X,Y):\n",
    "    nx = X.shape[0]\n",
    "    nh = 30\n",
    "    ny = "
   ]
  },
  {
   "cell_type": "code",
   "execution_count": null,
   "metadata": {},
   "outputs": [],
   "source": [
    "def initialize_parameters(nx,nh,ny):\n",
    "    W1 = np.random.randn(nh,nx) * 0.01\n",
    "    b1 = np.zeros((nh,1))\n",
    "    W2 = np.random.randn(ny,nh) * 0.01\n",
    "    b2 = np.zeros((ny,1))\n",
    "    parameters = {\"W1\" : W1, \"W2\" : W2, \"b1\" : b1, \"b2\" : b2}\n",
    "    return parameters"
   ]
  },
  {
   "cell_type": "code",
   "execution_count": 13,
   "metadata": {},
   "outputs": [],
   "source": [
    "def forward_pass(parameters,X):\n",
    "    Z1 = np.dot(W1,X)+b1\n",
    "    A1 = relu(Z1)\n",
    "    Z2 = np.dot(W2,A1)+b2\n",
    "    A2 = sigmoid(Z2)\n",
    "    cache = {\"Z1\" : Z1, \"A1\" : A1, \"Z2\" : Z2, \"A2\": A2}\n",
    "    return A2, cache"
   ]
  },
  {
   "cell_type": "code",
   "execution_count": 14,
   "metadata": {},
   "outputs": [],
   "source": [
    "def sigmoid(Z):\n",
    "    return 1/(1+np.exp(-Z))\n",
    "\n",
    "def sigmoid_prime(Z):\n",
    "    return sigmoid(Z)*(1-sigmoid(Z))\n",
    "\n",
    "def relu(Z):\n",
    "    return max(0,Z)\n",
    "\n",
    "def relu_prime(Z):\n",
    "    if Z>0:\n",
    "        return 1\n",
    "    return 0"
   ]
  },
  {
   "cell_type": "code",
   "execution_count": null,
   "metadata": {},
   "outputs": [],
   "source": [
    "def backward_pass(parameters, cache,X):\n",
    "    dA2 = -(np.divide(Y,A2) - np.divide(1-Y, 1-A2))\n",
    "    dZ2 = np.dot"
   ]
  }
 ],
 "metadata": {
  "kernelspec": {
   "display_name": "Python 2",
   "language": "python",
   "name": "python2"
  },
  "language_info": {
   "codemirror_mode": {
    "name": "ipython",
    "version": 2
   },
   "file_extension": ".py",
   "mimetype": "text/x-python",
   "name": "python",
   "nbconvert_exporter": "python",
   "pygments_lexer": "ipython2",
   "version": "2.7.12"
  }
 },
 "nbformat": 4,
 "nbformat_minor": 2
}
