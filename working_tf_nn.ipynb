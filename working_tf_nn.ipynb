{
 "cells": [
  {
   "cell_type": "code",
   "execution_count": 32,
   "metadata": {},
   "outputs": [],
   "source": [
    "import numpy as np\n",
    "import tensorflow as tf\n",
    "import matplotlib.pyplot as plt\n",
    "import csv\n",
    "import pandas as pd\n",
    "from sklearn.model_selection import train_test_split\n",
    "from tensorflow.python.framework import ops\n",
    "import cPickle"
   ]
  },
  {
   "cell_type": "code",
   "execution_count": 21,
   "metadata": {},
   "outputs": [
    {
     "name": "stdout",
     "output_type": "stream",
     "text": [
      "(42000, 784) (42000, 1)\n",
      "(28000, 784)\n"
     ]
    }
   ],
   "source": [
    "labeled_images = pd.read_csv('./train.csv')\n",
    "images = labeled_images.iloc[:,1:]\n",
    "labels = labeled_images.iloc[:,:1]\n",
    "#xtrain, xval,ytrain, yval = train_test_split(images, labels, train_size=0.8, random_state=0)\n",
    "#print xtrain.shape, xval.shape, ytrain.shape, yval.shape\n",
    "xtrain=images.as_matrix()\n",
    "ytrain=labels.as_matrix()\n",
    "print xtrain.shape, ytrain.shape\n",
    "\n",
    "labeled_images = pd.read_csv('./test.csv')\n",
    "xtest=labeled_images.as_matrix()\n",
    "print xtest.shape"
   ]
  },
  {
   "cell_type": "code",
   "execution_count": 22,
   "metadata": {},
   "outputs": [],
   "source": [
    "def convert_to_one_hot(Y, C):\n",
    "    Y = np.eye(C)[Y.reshape(-1)].T\n",
    "    return Y"
   ]
  },
  {
   "cell_type": "code",
   "execution_count": 23,
   "metadata": {},
   "outputs": [
    {
     "name": "stdout",
     "output_type": "stream",
     "text": [
      "(784,)\n",
      "number of training examples = 42000\n",
      "number of test examples = 28000\n",
      "X_train shape: (42000, 784)\n",
      "Y_train shape: (42000, 10)\n",
      "X_test shape: (28000, 784)\n"
     ]
    },
    {
     "data": {
      "image/png": "[encoded data removed]",
      "text/plain": [
       "<matplotlib.figure.Figure at 0x7ff514f08c90>"
      ]
     },
     "metadata": {},
     "output_type": "display_data"
    }
   ],
   "source": [
    "i=111\n",
    "img=images.iloc[i].as_matrix()\n",
    "print img.shape\n",
    "img=img.reshape((28,28))\n",
    "plt.imshow(img,cmap='gray')\n",
    "plt.title(labels.iloc[i,0])\n",
    "\n",
    "\n",
    "xtrain = xtrain/255.\n",
    "xtest = xtest/255.\n",
    "ytrain = convert_to_one_hot(ytrain, 10).T\n",
    "\n",
    "print (\"number of training examples = \" + str(xtrain.shape[0]))\n",
    "print (\"number of test examples = \" + str(xtest.shape[0]))\n",
    "print (\"X_train shape: \" + str(xtrain.shape))\n",
    "print (\"Y_train shape: \" + str(ytrain.shape))\n",
    "print (\"X_test shape: \" + str(xtest.shape))\n"
   ]
  },
  {
   "cell_type": "code",
   "execution_count": 24,
   "metadata": {},
   "outputs": [
    {
     "data": {
      "image/png": "[encoded data removed]",
      "text/plain": [
       "<matplotlib.figure.Figure at 0x7ff5786aa090>"
      ]
     },
     "metadata": {},
     "output_type": "display_data"
    }
   ],
   "source": [
    "a = labels.apply(pd.value_counts).reset_index()\n",
    "plt.bar(a['index'], a['label'])\n",
    "plt.show()"
   ]
  },
  {
   "cell_type": "code",
   "execution_count": 25,
   "metadata": {},
   "outputs": [],
   "source": [
    "def create_placeholders(nx, ny):\n",
    "    X = tf.placeholder(shape=[None, nx], dtype=tf.float32)\n",
    "    Y = tf.placeholder(shape=[None, ny], dtype=tf.float32)\n",
    "    return X, Y"
   ]
  },
  {
   "cell_type": "code",
   "execution_count": 42,
   "metadata": {},
   "outputs": [],
   "source": [
    "def initialize_parameters(nx, ny):\n",
    "    W1 = tf.Variable(tf.truncated_normal([nx, 100], mean=0, stddev=1 / np.sqrt(nx)), name='W1')\n",
    "    b1 = tf.Variable(tf.truncated_normal([100],mean=0, stddev=1 / np.sqrt(nx)), name='b1')\n",
    "    \n",
    "    W2 = tf.Variable(tf.random_normal([100, 100],mean=0,stddev=1/np.sqrt(nx)),name='W2')\n",
    "    b2 = tf.Variable(tf.random_normal([100],mean=0,stddev=1/np.sqrt(nx)),name='b2')\n",
    "\n",
    "    W3 = tf.Variable(tf.random_normal([100, ny], mean=0, stddev=1/np.sqrt(nx)), name='W3')\n",
    "    b3 = tf.Variable(tf.random_normal([ny], mean=0, stddev=1/np.sqrt(nx)), name='b3')\n",
    "\n",
    "    #W1 = tf.get_variable(\"W1\", [100,nx], initializer=tf.contrib.layers.xavier_initializer(seed=0))\n",
    "    #b1 = tf.get_variable(\"b1\", [100,1], initializer=tf.zeros_initializer())\n",
    "    \n",
    "    #W2 = tf.get_variable(\"W2\", [ny,100], initializer=tf.contrib.layers.xavier_initializer(seed=0))\n",
    "    #b2 = tf.get_variable(\"b2\", [ny,1], initializer=tf.zeros_initializer())\n",
    "    \n",
    "    parameters = {\"W1\": W1, \"b1\" : b1, \"W3\" : W3, \n",
    "                  \"W2\": W2, \"b2\" : b2, \"b3\" : b3 }\n",
    "    \n",
    "    return parameters"
   ]
  },
  {
   "cell_type": "code",
   "execution_count": 43,
   "metadata": {},
   "outputs": [],
   "source": [
    "def forward_propagation(X, parameters):\n",
    "    W1 = parameters['W1']\n",
    "    b1 = parameters['b1']\n",
    "    W2 = parameters['W2']\n",
    "    b2 = parameters['b2']\n",
    "    W3 = parameters['W3']\n",
    "    b3 = parameters['b3']\n",
    "    \n",
    "    #Z1 = tf.add(tf.matmul(W1, X), b1)\n",
    "    #A1 = tf.nn.relu(Z1)\n",
    "    #Z2 = tf.add(tf.matmul(W2, A1), b2)\n",
    "    #return Z2\n",
    "    \n",
    "    A1 = tf.nn.tanh((tf.matmul(X, W1)+b1), name='A1')\n",
    "    A2 = tf.nn.sigmoid((tf.matmul(A1,W2)+b2),name='A2')\n",
    "    A3 = tf.nn.softmax((tf.matmul(A2, W3) + b3), name='A3')\n",
    "    \n",
    "    \n",
    "    return A3"
   ]
  },
  {
   "cell_type": "code",
   "execution_count": 44,
   "metadata": {},
   "outputs": [],
   "source": [
    "def compute_cost(A, Y):\n",
    "    #cost = tf.reduce_mean(tf.nn.softmax_cross_entropy_with_logits(logits = Z2, labels = Y))\n",
    "    cost = tf.reduce_mean(-tf.reduce_sum(Y * tf.log(A),reduction_indices=[1]))\n",
    "    return cost"
   ]
  },
  {
   "cell_type": "code",
   "execution_count": 45,
   "metadata": {},
   "outputs": [],
   "source": [
    "def random_mini_batches(X, Y, mini_batch_size = 64, seed = 0): \n",
    "    m = X.shape[0]                  \n",
    "    mini_batches = []\n",
    "    np.random.seed(seed)\n",
    "    \n",
    "    # Step 1: Shuffle (X, Y)\n",
    "    permutation = list(np.random.permutation(m))\n",
    "    shuffled_X = X[permutation,:]\n",
    "    shuffled_Y = Y[permutation,:]\n",
    "\n",
    "    # Step 2: Partition (shuffled_X, shuffled_Y). Minus the end case.\n",
    "    num_complete_minibatches = int(m/mini_batch_size) # number of mini batches of size mini_batch_size in your partitionning\n",
    "    for k in range(0, num_complete_minibatches):\n",
    "        mini_batch_X = shuffled_X[k * mini_batch_size : k * mini_batch_size + mini_batch_size,:]\n",
    "        mini_batch_Y = shuffled_Y[k * mini_batch_size : k * mini_batch_size + mini_batch_size,:]\n",
    "        mini_batch = (mini_batch_X, mini_batch_Y)\n",
    "        mini_batches.append(mini_batch)\n",
    "    \n",
    "    # Handling the end case (last mini-batch < mini_batch_size)\n",
    "    if m % mini_batch_size != 0:\n",
    "        mini_batch_X = shuffled_X[num_complete_minibatches * mini_batch_size : m,:]\n",
    "        mini_batch_Y = shuffled_Y[num_complete_minibatches * mini_batch_size : m,:]\n",
    "        mini_batch = (mini_batch_X, mini_batch_Y)\n",
    "        mini_batches.append(mini_batch)\n",
    "    \n",
    "    return mini_batches"
   ]
  },
  {
   "cell_type": "code",
   "execution_count": 48,
   "metadata": {},
   "outputs": [],
   "source": [
    "def model(X_train, Y_train, X_test, learning_rate = 0.0001,\n",
    "          num_epochs = 180, minibatch_size = 32, print_cost = True):\n",
    "    ops.reset_default_graph() \n",
    "    tf.set_random_seed(1)                             \n",
    "    seed = 3                                          \n",
    "    (m, nx) = X_train.shape             \n",
    "    ny = Y_train.shape[1]                            \n",
    "    costs = []                                        \n",
    "    \n",
    "    X, Y = create_placeholders(nx, ny)\n",
    "    parameters = initialize_parameters(nx, ny)\n",
    "    Z2 = forward_propagation(X, parameters)\n",
    "    cost = compute_cost(Z2, Y)\n",
    "    optimizer = tf.train.AdamOptimizer(learning_rate).minimize(cost)\n",
    "    init = tf.global_variables_initializer()\n",
    "    with tf.Session() as sess:\n",
    "        sess.run(init)\n",
    "        \n",
    "        for epoch in range(num_epochs):\n",
    "            minibatch_cost = 0.\n",
    "            num_minibatches = int(m / minibatch_size) \n",
    "            seed = seed + 1\n",
    "            minibatches = random_mini_batches(X_train, Y_train, minibatch_size, seed)\n",
    "\n",
    "            for minibatch in minibatches:\n",
    "                (minibatch_X, minibatch_Y) = minibatch\n",
    "                _ , temp_cost = sess.run([optimizer, cost], feed_dict={X: minibatch_X, Y: minibatch_Y})\n",
    "                minibatch_cost += temp_cost / num_minibatches\n",
    "                \n",
    "            if print_cost == True and epoch % 5 == 0:\n",
    "                print (\"Cost after epoch %i: %f\" % (epoch, minibatch_cost))\n",
    "            if print_cost == True and epoch % 1 == 0:\n",
    "                costs.append(minibatch_cost)\n",
    "        \n",
    "        plt.plot(np.squeeze(costs))\n",
    "        plt.ylabel('cost')\n",
    "        plt.xlabel('iterations (per tens)')\n",
    "        plt.title(\"Learning rate =\" + str(learning_rate))\n",
    "        plt.show()\n",
    "\n",
    "        # Calculate the correct predictions\n",
    "        correct_prediction = tf.equal(tf.argmax(Z2, 1), tf.argmax(Y, 1))\n",
    "        \n",
    "        # Calculate accuracy on the test set\n",
    "        accuracy = tf.reduce_mean(tf.cast(correct_prediction, \"float\"))\n",
    "        print(accuracy)\n",
    "        train_accuracy = accuracy.eval({X: X_train, Y: Y_train})\n",
    "        #test_accuracy = accuracy.eval({X: X_test, Y: Y_test})\n",
    "        print(\"Train Accuracy:\", train_accuracy)\n",
    "        #print(\"Test Accuracy:\", test_accuracy)\n",
    "        y_pred = sess.run(tf.argmax(Z2, 1), feed_dict={X: xtest})\n",
    "        cPickle.dump(y_pred,open('ytest.p','wb'))\n",
    "        return train_accuracy, parameters"
   ]
  },
  {
   "cell_type": "code",
   "execution_count": 49,
   "metadata": {},
   "outputs": [
    {
     "name": "stdout",
     "output_type": "stream",
     "text": [
      "Cost after epoch 0: 2.086289\n",
      "Cost after epoch 5: 0.485292\n",
      "Cost after epoch 10: 0.294083\n",
      "Cost after epoch 15: 0.222507\n",
      "Cost after epoch 20: 0.180073\n",
      "Cost after epoch 25: 0.148636\n",
      "Cost after epoch 30: 0.125097\n",
      "Cost after epoch 35: 0.106317\n",
      "Cost after epoch 40: 0.090524\n",
      "Cost after epoch 45: 0.077745\n",
      "Cost after epoch 50: 0.066959\n",
      "Cost after epoch 55: 0.057576\n",
      "Cost after epoch 60: 0.049528\n",
      "Cost after epoch 65: 0.042680\n",
      "Cost after epoch 70: 0.036658\n",
      "Cost after epoch 75: 0.031243\n",
      "Cost after epoch 80: 0.026576\n",
      "Cost after epoch 85: 0.022370\n",
      "Cost after epoch 90: 0.018888\n",
      "Cost after epoch 95: 0.015680\n",
      "Cost after epoch 100: 0.013020\n",
      "Cost after epoch 105: 0.010700\n",
      "Cost after epoch 110: 0.008700\n",
      "Cost after epoch 115: 0.006980\n",
      "Cost after epoch 120: 0.005542\n",
      "Cost after epoch 125: 0.004350\n",
      "Cost after epoch 130: 0.003323\n",
      "Cost after epoch 135: 0.002535\n",
      "Cost after epoch 140: 0.001921\n",
      "Cost after epoch 145: 0.001414\n"
     ]
    },
    {
     "data": {
      "image/png": "[encoded data removed]",
      "text/plain": [
       "<matplotlib.figure.Figure at 0x7ff5378b3c50>"
      ]
     },
     "metadata": {},
     "output_type": "display_data"
    },
    {
     "name": "stdout",
     "output_type": "stream",
     "text": [
      "Tensor(\"Mean_1:0\", shape=(), dtype=float32)\n",
      "('Train Accuracy:', 1.0)\n"
     ]
    }
   ],
   "source": [
    "_, parameters = model(xtrain, ytrain, xtest)"
   ]
  },
  {
   "cell_type": "code",
   "execution_count": null,
   "metadata": {},
   "outputs": [],
   "source": []
  }
 ],
 "metadata": {
  "kernelspec": {
   "display_name": "Python 2",
   "language": "python",
   "name": "python2"
  },
  "language_info": {
   "codemirror_mode": {
    "name": "ipython",
    "version": 2
   },
   "file_extension": ".py",
   "mimetype": "text/x-python",
   "name": "python",
   "nbconvert_exporter": "python",
   "pygments_lexer": "ipython2",
   "version": "2.7.12"
  }
 },
 "nbformat": 4,
 "nbformat_minor": 2
}
